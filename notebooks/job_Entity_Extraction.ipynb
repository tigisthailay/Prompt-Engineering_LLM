{
 "cells": [
  {
   "cell_type": "markdown",
   "metadata": {},
   "source": [
    "#### Import Modlues"
   ]
  },
  {
   "cell_type": "code",
   "execution_count": 1,
   "metadata": {},
   "outputs": [],
   "source": [
    "import sys, os\n",
    "import cohere\n",
    "from dotenv import load_dotenv\n",
    "sys.path.append(os.path.abspath(os.path.join('../Scripts')))\n",
    "#tg"
   ]
  },
  {
   "cell_type": "code",
   "execution_count": 18,
   "metadata": {},
   "outputs": [],
   "source": [
    "#Import modules from script\n",
    "from reader import ReadFile\n",
    "from pipeline import Prompt\n",
    "from preeprocessing import DataPreprocesser"
   ]
  },
  {
   "cell_type": "markdown",
   "metadata": {},
   "source": [
    "#### Read Cleaned Data"
   ]
  },
  {
   "cell_type": "code",
   "execution_count": 19,
   "metadata": {},
   "outputs": [],
   "source": [
    "#Initialize file and API_KEY\n",
    "file = ReadFile()\n",
    "propmt_pipeline = PromptPipeline()\n",
    "API_KEY = 'mxiQHQDT91By3aDK7pjlghcJOm9qHfNZJ8a9Tyur'\n"
   ]
  },
  {
   "cell_type": "code",
   "execution_count": 36,
   "metadata": {},
   "outputs": [],
   "source": [
    "#train_data =  file.dvc_get_data('../Data/relations_dev.json', 'vj')"
   ]
  },
  {
   "cell_type": "code",
   "execution_count": 28,
   "metadata": {},
   "outputs": [],
   "source": [
    "test_data = reader.dvc_get_data('../Data/relations_test.json', 'vt')"
   ]
  },
  {
   "cell_type": "markdown",
   "metadata": {},
   "source": [
    "##### Initialize our Cohere Client"
   ]
  },
  {
   "cell_type": "code",
   "execution_count": 6,
   "metadata": {},
   "outputs": [],
   "source": [
    "co = cohere.Client(API_KEY)"
   ]
  },
  {
   "cell_type": "markdown",
   "metadata": {},
   "source": [
    "use tuned models based on out extracted entities"
   ]
  },
  {
   "cell_type": "code",
   "execution_count": 38,
   "metadata": {},
   "outputs": [],
   "source": [
    "my_vals = propmt_pipeline.extract_values(train_data)\n",
    "with open(\"../data/relations_dev_fine_tune.txt\", 'w')as f:\n",
    "    f.write(my_vals)\n",
    "#We Extract all the entities including job description text and we will feed this in to our model four fine tuning in the cohere website"
   ]
  },
  {
   "cell_type": "code",
   "execution_count": 39,
   "metadata": {},
   "outputs": [],
   "source": [
    "my_vals = propmt_pipeline.extract_values(test_data)\n",
    "with open(\"../data/relations_test_fine_tune.txt\", 'w')as f:\n",
    "    f.write(my_vals)"
   ]
  },
  {
   "cell_type": "markdown",
   "metadata": {},
   "source": [
    "#### After training on cohere dashboard we will give it a try"
   ]
  },
  {
   "cell_type": "code",
   "execution_count": 40,
   "metadata": {},
   "outputs": [],
   "source": [
    "val = propmt_pipeline.extract_values(train_data[:5])"
   ]
  },
  {
   "cell_type": "code",
   "execution_count": 94,
   "metadata": {},
   "outputs": [
    {
     "data": {
      "text/plain": [
       "\"Job Description: Bachelor's degree in Mechanical Engineering or Physical Science 3+ years track record of developing or specifying fiber optic cables and connector related products Knowledge of fiber optic component, cabling, and interconnect products, technologies, and standards Experience in statistical data analysis Experience with product life cycle management (PLM) process Experience providing solutions to problems and meeting deadlines Experience engaging stakeholders PREFERRED Advanced degree Experience using a software tool for statistical data analysis such as JMP Experience using Agile as product life-cycle management tool Data center or other mission critical development experience\\nDIPLOMA: Bachelor\\nDIPLOMA_MAJOR: Mechanical Engineering,Physical Science\\nEXPERIENCE: 3+ years\\nSKILLS: developing,fiber optic cables,connector related products\\n\\n--\\nJob Description: 10+ years of software engineering work experience. Technical experience in release automation engineering, CI/CD or related roles. Experience building and leading a software organization through product design, delivery and commercialization of consumer electronics devices. Experience recruiting and managing technical teams, including performance management. BS/MS in Computer Science. Experience in leading timeline, multi-partner initiatives. Organizational communication and coordination experience. PREFERRED 5+ years of experience with hands-on technical management, release engineering, tools engineering, DevOps, or related area.\\nEXPERIENCE: 10+ years,5+ years\\nSKILLS: software engineering,technical management,release engineering,tools engineering,DevOps\\nDIPLOMA: BS/MS\\nDIPLOMA_MAJOR: Computer Science\\n\\n--\\nJob Description: 3+ years Swift & Objective-C and experience with iOS internals Experience building an entire app from scratch and ideally a portfolio of apps featured in the App Store Someone who knows every trick in the book on UI transitions, network communication and memory/battery efficiency Strong UI/design skill experience is a plus\\nEXPERIENCE: 3+ years\\nSKILLS: Swift & Objective-C\\n\\n--\\nJob Description: 8+ years experience in software engineering leadership 5+ years people management experience including managing leaders and managing remotely across regions Strategic thinker with proven track record of transforming operations to provide customer experience through innovation and improvement Track record of working with VP, C-level Executives Experience deploying operational support models across enterprise organizations Communication/presentations experience Experience working with all levels of management internally and externally Experience meeting objectives in an entrepreneurial environment Collaboration and relationship-building experience BA/BS degree or higher\\nEXPERIENCE: 8+ years,5+ years\\nSKILLS: software engineering,people management,managing leaders\\n\\n--\\nJob Description: BS degree in Computer Science or related field. 7+ years C++ experience, including C++11 features and principles. 5+ years experience creating software for real-time environments such as games or robotics. 2+ years experience managing software engineers. Proven track record of software development, including shipping one or more products on large code bases that span platforms and tools. Problem solving and optimization experience. Communication experience and demonstrated experience working across disciplines and teams to drive solutions. PREFERRED Hands-on experience with 3D computer vision algorithms including Calibration, SLAM, Reconstruction, Mapping, Localization, Sensor Fusion, State Estimation and Image Processing Experience with designing (products or open-source/git software) of inertial/optical sensing devices Publication in leading workshops or conferences such as CVPR, ECCV, ICCV, SIGGRAPH, ICCP, RSS, ICRA, etc.\\nDIPLOMA: BS\\nDIPLOMA_MAJOR: Computer Science\\nEXPERIENCE: 7+ years,5+ years,2+ years\\nSKILLS: C++,C++11,creating software for real-time environments,games,robotics,managing software engineers\\n\\n--\\n\\n\\nJob Description: BA/BS\\n5+ years of program or project management experience\\n2+ years of technical project/program management experience\\nTrack record of operating independently\\nExperience understanding user needs, gathering requirements, and defining scope\\nCommunication experience interacting with a variety of audiences from engineers, to vendors, to research leaders\\nTrack record of building cross-functional relationships\\n\\nPREFERRED \\nExperience working with UX Research and/or UX Design\""
      ]
     },
     "execution_count": 94,
     "metadata": {},
     "output_type": "execute_result"
    }
   ],
   "source": [
    "prompt = val\n",
    "prompt += f\"\\nJob Description: {test_data[2]['document'].strip()}\"\n",
    "prompt"
   ]
  },
  {
   "cell_type": "code",
   "execution_count": 91,
   "metadata": {},
   "outputs": [
    {
     "name": "stdout",
     "output_type": "stream",
     "text": [
      "Prediction: \n",
      "Experience in the use of large-scale infrastructure such as cluster, storage, networking, and/or compute.\n",
      "Experience in statistical analysis of data from different sources.\n",
      "Experience in developing and debugging in C/C++, Python, C# and/or Java.\n",
      "\n",
      "DIPLOMA: Ph.D.\n",
      "DIPLOMA_MAJOR: Computer Science\n",
      "EXPERIENCE: 1+ year(s)\n",
      "SKILLS: AI,computer science,statistics,applied mathematics,data science,technical research,public outreach\n",
      "\n",
      "--\n"
     ]
    }
   ],
   "source": [
    "response = co.generate( \n",
    "model='large', \n",
    "prompt=prompt,\n",
    "max_tokens=400, \n",
    "temperature=0.5, \n",
    "k=0, \n",
    "p=1, \n",
    "frequency_penalty=0, \n",
    "presence_penalty=0, \n",
    "stop_sequences=[\"--\"], \n",
    "return_likelihoods='NONE') \n",
    "print('Prediction: {}'.format(response.generations[0].text))"
   ]
  },
  {
   "cell_type": "code",
   "execution_count": 41,
   "metadata": {},
   "outputs": [],
   "source": [
    "val = propmt_pipeline.extract_values(train_data[:5])"
   ]
  },
  {
   "cell_type": "code",
   "execution_count": 100,
   "metadata": {},
   "outputs": [
    {
     "data": {
      "text/plain": [
       "'Job Description: BA/BS\\n5+ years of program or project management experience\\n2+ years of technical project/program management experience\\nTrack record of operating independently\\nExperience understanding user needs, gathering requirements, and defining scope\\nCommunication experience interacting with a variety of audiences from engineers, to vendors, to research leaders\\nTrack record of building cross-functional relationships\\n\\nPREFERRED \\nExperience working with UX Research and/or UX Design --'"
      ]
     },
     "execution_count": 100,
     "metadata": {},
     "output_type": "execute_result"
    }
   ],
   "source": [
    "# prompt = val\n",
    "prompt = f\"Job Description: {test_data[2]['document'].strip()} --\"\n",
    "prompt"
   ]
  },
  {
   "cell_type": "code",
   "execution_count": 101,
   "metadata": {},
   "outputs": [
    {
     "name": "stdout",
     "output_type": "stream",
     "text": [
      "Prediction:  especially in a consumer-facing product\n",
      "Experience managing a team of UX Researchers and/or UX Designers\n",
      "Experience managing a team of engineers\n",
      "Experience managing a team of product managers\n",
      "Experience working in a startup environment\n",
      "Experience with Agile methodologies\n",
      "Experience with user research tools and techniques\n",
      "\n",
      "DIPLOMA \n",
      "5+ years of program or project management experience\n",
      "2+ years of technical project/program management experience\n",
      "Track record of operating independently\n",
      "Experience understanding user needs, gathering requirements, and defining scope\n",
      "Communication experience interacting with a variety of audiences from engineers, to vendors, to research leaders\n",
      "Track record of building cross-functional relationships\n",
      "\n",
      "PREFERRED \n",
      "Experience working with UX Research and/or UX Design --\n"
     ]
    }
   ],
   "source": [
    "response = co.generate( \n",
    "model='large', \n",
    "prompt=prompt,\n",
    "max_tokens=400, \n",
    "temperature=0.5, \n",
    "k=0, \n",
    "p=1, \n",
    "frequency_penalty=0, \n",
    "presence_penalty=0, \n",
    "stop_sequences=[\"--\"], \n",
    "return_likelihoods='NONE') \n",
    "print('Prediction: {}'.format(response.generations[0].text))\n",
    "#Try an other fine tuned model, tuned with a larger model(medium), the previous one was small"
   ]
  },
  {
   "cell_type": "markdown",
   "metadata": {},
   "source": [
    "the new fine tuned model is performing well. so we will modify our send_request_to_cohere to accept model name`"
   ]
  },
  {
   "cell_type": "code",
   "execution_count": null,
   "metadata": {},
   "outputs": [],
   "source": []
  }
 ],
 "metadata": {
  "kernelspec": {
   "display_name": "Python 3 (ipykernel)",
   "language": "python",
   "name": "python3"
  },
  "language_info": {
   "codemirror_mode": {
    "name": "ipython",
    "version": 3
   },
   "file_extension": ".py",
   "mimetype": "text/x-python",
   "name": "python",
   "nbconvert_exporter": "python",
   "pygments_lexer": "ipython3",
   "version": "3.9.12"
  },
  "vscode": {
   "interpreter": {
    "hash": "d544f67e9aa83adbd02c37f60b9b691fd714bd2f11a4e3320930970c6f737269"
   }
  }
 },
 "nbformat": 4,
 "nbformat_minor": 2
}
