#document document score
{
 "cells": [
  {
   "cell_type": "code",
   "execution_count": 101,
   "id": "0489a64a",
   "metadata": {},
   "outputs": [],
   "source": [
    "import sys, os\n",
    "import re\n",
    "import pandas as pd\n",
    "import cohere\n",
    "from cohere.classify import Example\n",
    "import numpy as np\n",
    "import pandas as pd\n",
    "from sklearn.model_selection import train_test_split\n",
    "from sklearn.metrics import accuracy_score\n",
    "from sklearn.metrics import f1_score\n",
    "from sklearn.svm import SVC\n",
    "from sklearn import preprocessing\n",
    "from dotenv import load_dotenv\n",
    "from nltk.tokenize import word_tokenize, sent_tokenize\n",
    "import nltk\n",
    "from nltk.corpus import stopwords\n",
    "from nltk.stem.porter import PorterStemmer\n",
    "from nltk.stem.wordnet import WordNetLemmatizer"
   ]
  },
  {
   "cell_type": "markdown",
   "id": "378b6d64",
   "metadata": {},
   "source": [
    "##### Import modules"
   ]
  },
  {
   "cell_type": "code",
   "execution_count": 127,
   "id": "3f48728b",
   "metadata": {},
   "outputs": [],
   "source": [
    "sys.path.append(os.path.abspath(os.path.join('../Scripts')))\n",
    "import config\n",
    "from reader import ReadFile\n",
    "from preprocessing import DataPreprocessor"
   ]
  },
  {
   "cell_type": "code",
   "execution_count": 128,
   "id": "f1107a3c",
   "metadata": {},
   "outputs": [],
   "source": [
    "#initialize modules\n",
    "reader = ReadFile()\n",
    "preproc = DataPreprocessor()"
   ]
  },
  {
   "cell_type": "code",
   "execution_count": 98,
   "id": "69c33fb6",
   "metadata": {},
   "outputs": [],
   "source": [
    "api_key = config.cohere_api['api_key']"
   ]
  },
  {
   "cell_type": "code",
   "execution_count": 99,
   "id": "1f4c337c",
   "metadata": {},
   "outputs": [],
   "source": [
    "co = cohere.Client(api_key)"
   ]
  },
  {
   "cell_type": "code",
   "execution_count": 11,
   "id": "90896ab9",
   "metadata": {},
   "outputs": [],
   "source": [
    "#load data\n",
    "df = pd.read_csv('../data/example_data.csv')"
   ]
  },
  {
   "cell_type": "code",
   "execution_count": 12,
   "id": "bbf23010",
   "metadata": {},
   "outputs": [
    {
     "data": {
      "text/html": [
       "<div>\n",
       "<style scoped>\n",
       "    .dataframe tbody tr th:only-of-type {\n",
       "        vertical-align: middle;\n",
       "    }\n",
       "\n",
       "    .dataframe tbody tr th {\n",
       "        vertical-align: top;\n",
       "    }\n",
       "\n",
       "    .dataframe thead th {\n",
       "        text-align: right;\n",
       "    }\n",
       "</style>\n",
       "<table border=\"1\" class=\"dataframe\">\n",
       "  <thead>\n",
       "    <tr style=\"text-align: right;\">\n",
       "      <th></th>\n",
       "      <th>Domain</th>\n",
       "      <th>Title</th>\n",
       "      <th>Description</th>\n",
       "      <th>Body</th>\n",
       "      <th>Link</th>\n",
       "      <th>timestamp</th>\n",
       "      <th>Analyst_Average_Score</th>\n",
       "      <th>Analyst_Rank</th>\n",
       "      <th>Reference_Final_Score</th>\n",
       "    </tr>\n",
       "  </thead>\n",
       "  <tbody>\n",
       "    <tr>\n",
       "      <th>0</th>\n",
       "      <td>rassegnastampa.news</td>\n",
       "      <td>Boris Johnson using a taxpayer-funded jet for ...</td>\n",
       "      <td>…often trigger a protest vote that can upset…t...</td>\n",
       "      <td>Boris Johnson using a taxpayer-funded jet for ...</td>\n",
       "      <td>https://rassegnastampa.news/boris-johnson-usin...</td>\n",
       "      <td>2021-09-09T18:17:46.258006</td>\n",
       "      <td>0.0</td>\n",
       "      <td>4</td>\n",
       "      <td>1.96</td>\n",
       "    </tr>\n",
       "    <tr>\n",
       "      <th>1</th>\n",
       "      <td>twitter.com</td>\n",
       "      <td>Stumbled across an interesting case, a woman f...</td>\n",
       "      <td>Stumbled across an interesting case, a woman f...</td>\n",
       "      <td>Stumbled across an interesting case, a woman f...</td>\n",
       "      <td>http://twitter.com/CoruscaKhaya/status/1435585...</td>\n",
       "      <td>2021-09-08T13:02:45.802298</td>\n",
       "      <td>0.0</td>\n",
       "      <td>4</td>\n",
       "      <td>12.00</td>\n",
       "    </tr>\n",
       "    <tr>\n",
       "      <th>2</th>\n",
       "      <td>atpe-tchad.info</td>\n",
       "      <td>Marché Résines dans les peintures et revêtemen...</td>\n",
       "      <td>…COVID-19…COVID…COVID…COVID-19 et Post COVID…C...</td>\n",
       "      <td>Le rapport d’étude de marché Résines dans les ...</td>\n",
       "      <td>http://atpe-tchad.info/2021/09/13/marche-resin...</td>\n",
       "      <td>2021-09-13T07:32:46.244403</td>\n",
       "      <td>0.0</td>\n",
       "      <td>4</td>\n",
       "      <td>0.05</td>\n",
       "    </tr>\n",
       "    <tr>\n",
       "      <th>3</th>\n",
       "      <td>badbluetech.bitnamiapp.com</td>\n",
       "      <td>AI drives data analytics surge, study finds</td>\n",
       "      <td>…hate raiders' linked to automated harassment ...</td>\n",
       "      <td>How to drive the funnel through content market...</td>\n",
       "      <td>http://badbluetech.bitnamiapp.com/p.php?sid=21...</td>\n",
       "      <td>2021-09-11T00:17:45.962605</td>\n",
       "      <td>0.0</td>\n",
       "      <td>4</td>\n",
       "      <td>6.10</td>\n",
       "    </tr>\n",
       "    <tr>\n",
       "      <th>4</th>\n",
       "      <td>kryptogazette.com</td>\n",
       "      <td>Triacetin Vertrieb Markt 2021: Globale Unterne...</td>\n",
       "      <td>…Abschnitten und Endanwendungen / Organisation...</td>\n",
       "      <td>Global Triacetin Vertrieb-Markt 2021 von Herst...</td>\n",
       "      <td>https://kryptogazette.com/2021/09/08/triacetin...</td>\n",
       "      <td>2021-09-08T12:47:46.078369</td>\n",
       "      <td>0.0</td>\n",
       "      <td>4</td>\n",
       "      <td>0.13</td>\n",
       "    </tr>\n",
       "  </tbody>\n",
       "</table>\n",
       "</div>"
      ],
      "text/plain": [
       "                       Domain  \\\n",
       "0         rassegnastampa.news   \n",
       "1                 twitter.com   \n",
       "2             atpe-tchad.info   \n",
       "3  badbluetech.bitnamiapp.com   \n",
       "4           kryptogazette.com   \n",
       "\n",
       "                                               Title  \\\n",
       "0  Boris Johnson using a taxpayer-funded jet for ...   \n",
       "1  Stumbled across an interesting case, a woman f...   \n",
       "2  Marché Résines dans les peintures et revêtemen...   \n",
       "3        AI drives data analytics surge, study finds   \n",
       "4  Triacetin Vertrieb Markt 2021: Globale Unterne...   \n",
       "\n",
       "                                         Description  \\\n",
       "0  …often trigger a protest vote that can upset…t...   \n",
       "1  Stumbled across an interesting case, a woman f...   \n",
       "2  …COVID-19…COVID…COVID…COVID-19 et Post COVID…C...   \n",
       "3  …hate raiders' linked to automated harassment ...   \n",
       "4  …Abschnitten und Endanwendungen / Organisation...   \n",
       "\n",
       "                                                Body  \\\n",
       "0  Boris Johnson using a taxpayer-funded jet for ...   \n",
       "1  Stumbled across an interesting case, a woman f...   \n",
       "2  Le rapport d’étude de marché Résines dans les ...   \n",
       "3  How to drive the funnel through content market...   \n",
       "4  Global Triacetin Vertrieb-Markt 2021 von Herst...   \n",
       "\n",
       "                                                Link  \\\n",
       "0  https://rassegnastampa.news/boris-johnson-usin...   \n",
       "1  http://twitter.com/CoruscaKhaya/status/1435585...   \n",
       "2  http://atpe-tchad.info/2021/09/13/marche-resin...   \n",
       "3  http://badbluetech.bitnamiapp.com/p.php?sid=21...   \n",
       "4  https://kryptogazette.com/2021/09/08/triacetin...   \n",
       "\n",
       "                    timestamp  Analyst_Average_Score  Analyst_Rank  \\\n",
       "0  2021-09-09T18:17:46.258006                    0.0             4   \n",
       "1  2021-09-08T13:02:45.802298                    0.0             4   \n",
       "2  2021-09-13T07:32:46.244403                    0.0             4   \n",
       "3  2021-09-11T00:17:45.962605                    0.0             4   \n",
       "4  2021-09-08T12:47:46.078369                    0.0             4   \n",
       "\n",
       "   Reference_Final_Score  \n",
       "0                   1.96  \n",
       "1                  12.00  \n",
       "2                   0.05  \n",
       "3                   6.10  \n",
       "4                   0.13  "
      ]
     },
     "execution_count": 12,
     "metadata": {},
     "output_type": "execute_result"
    }
   ],
   "source": [
    "# top 5 data\n",
    "df.head(5)"
   ]
  },
  {
   "cell_type": "code",
   "execution_count": 140,
   "id": "77b1ce0b",
   "metadata": {},
   "outputs": [],
   "source": [
    "# length of body \n",
    "#len = df['Body'].apply(lambda y: len(y))\n",
    "#len"
   ]
  },
  {
   "cell_type": "code",
   "execution_count": 37,
   "id": "6f143257",
   "metadata": {},
   "outputs": [],
   "source": [
    "#title_length = df['Title'].apply(lambda x: len(x))\n",
    "#description_length = df['Description'].apply(lambda x: len(x))"
   ]
  },
  {
   "cell_type": "markdown",
   "id": "cd558936",
   "metadata": {},
   "source": [
    "##### Preprocessing"
   ]
  },
  {
   "cell_type": "markdown",
   "id": "b7fe34e8",
   "metadata": {},
   "source": [
    "##### Handling wordcase"
   ]
  },
  {
   "cell_type": "code",
   "execution_count": 38,
   "id": "f48f2461",
   "metadata": {},
   "outputs": [],
   "source": [
    "#convert to lower case\n",
    "df['body_df'] = [text.lower() for text in df['Body']]\n",
    "df['desc_df'] = [text.lower() for text in df['Description']]\n"
   ]
  },
  {
   "cell_type": "code",
   "execution_count": 39,
   "id": "ddc0c218",
   "metadata": {},
   "outputs": [
    {
     "data": {
      "text/plain": [
       "0    …often trigger a protest vote that can upset…t...\n",
       "1    stumbled across an interesting case, a woman f...\n",
       "2    …covid-19…covid…covid…covid-19 et post covid…c...\n",
       "3    …hate raiders' linked to automated harassment ...\n",
       "4    …abschnitten und endanwendungen / organisation...\n",
       "5    …crime stamp out…n1 and r101 roads appear in c...\n",
       "6    …in lagos, nigeria, 84 south africans were kil...\n",
       "7    …additional spending on buildings, repairs and...\n",
       "8    …lawsuit against public participation) designe...\n",
       "9    …key players! – dsm – basf – allied biotech – ...\n",
       "Name: desc_df, dtype: object"
      ]
     },
     "execution_count": 39,
     "metadata": {},
     "output_type": "execute_result"
    }
   ],
   "source": [
    "df['desc_df']"
   ]
  },
  {
   "cell_type": "code",
   "execution_count": 40,
   "id": "7685984f",
   "metadata": {},
   "outputs": [
    {
     "data": {
      "text/plain": [
       "0    boris johnson using a taxpayer-funded jet for ...\n",
       "1    stumbled across an interesting case, a woman f...\n",
       "2    le rapport d’étude de marché résines dans les ...\n",
       "3    how to drive the funnel through content market...\n",
       "4    global triacetin vertrieb-markt 2021 von herst...\n",
       "5    south african police service office of the pro...\n",
       "6    today is the 7th anniversary [tragic collapse ...\n",
       "7    construction activity grew steadily by 4% in t...\n",
       "8    - former eskom ceo matshela moses koko sought ...\n",
       "9    global and regional beta-carotene market resea...\n",
       "Name: body_df, dtype: object"
      ]
     },
     "execution_count": 40,
     "metadata": {},
     "output_type": "execute_result"
    }
   ],
   "source": [
    "df['body_df']"
   ]
  },
  {
   "cell_type": "markdown",
   "id": "f44f86ab",
   "metadata": {},
   "source": [
    "Tokenization"
   ]
  },
  {
   "cell_type": "code",
   "execution_count": null,
   "id": "bd18fd48",
   "metadata": {},
   "outputs": [],
   "source": [
    "#nltk.download('punkt')"
   ]
  },
  {
   "cell_type": "code",
   "execution_count": 42,
   "id": "6aa23555",
   "metadata": {},
   "outputs": [],
   "source": [
    "#tokenize the body ond description\n",
    "wtoken = [word_tokenize(text) for text in df['body_df']]\n",
    "stoken = [sent_tokenize(text) for text in df['body_df']]\n",
    "desc_stoken = [sent_tokenize(text) for text in df['Description']]"
   ]
  },
  {
   "cell_type": "markdown",
   "id": "4626576a",
   "metadata": {},
   "source": [
    "Remove Punctuation"
   ]
  },
  {
   "cell_type": "code",
   "execution_count": 43,
   "id": "dca92f73",
   "metadata": {},
   "outputs": [],
   "source": [
    "#remove punctuations from body token\n",
    "reg = re.compile('(@[a-z0-9]+)|([^0-9a-z \\t])|(\\w+:\\/\\/\\S+)')\n",
    "\n",
    "no_punc = []\n",
    "\n",
    "for x in stoken:\n",
    "    review = []\n",
    "    for token in x:\n",
    "        new_token = reg.sub(u'', token)\n",
    "        if not new_token == u'':\n",
    "            review.append(new_token)\n",
    "    no_punc.append(review)"
   ]
  },
  {
   "cell_type": "code",
   "execution_count": 50,
   "id": "891a0631",
   "metadata": {},
   "outputs": [],
   "source": [
    "#remove punctuations from description token\n",
    "reg = re.compile('(@[a-z0-9]+)|([^0-9a-z \\t])|(\\w+:\\/\\/\\S+)')\n",
    "\n",
    "no_punc_desc = []\n",
    "\n",
    "for x in desc_stoken:\n",
    "    review = []\n",
    "    for token in x:\n",
    "        new_token = reg.sub(u'', token)\n",
    "        if not new_token == u'':\n",
    "            review.append(new_token)\n",
    "    no_punc_desc.append(review)"
   ]
  },
  {
   "cell_type": "markdown",
   "id": "ad7b3eee",
   "metadata": {},
   "source": [
    "Remove Stop Words"
   ]
  },
  {
   "cell_type": "code",
   "execution_count": 51,
   "id": "d6b23ff6",
   "metadata": {},
   "outputs": [],
   "source": [
    "#nltk.download('stopwords')"
   ]
  },
  {
   "cell_type": "code",
   "execution_count": 52,
   "id": "67cd388d",
   "metadata": {},
   "outputs": [],
   "source": [
    "#remove stop words from body\n",
    "no_stop = []\n",
    "\n",
    "for text in no_punc:\n",
    "    new_vector = []\n",
    "    for word in text:\n",
    "        if not word in stopwords.words('english'):\n",
    "            new_vector.append(word)\n",
    "            \n",
    "    no_stop.append(new_vector)"
   ]
  },
  {
   "cell_type": "code",
   "execution_count": 53,
   "id": "5101aab5",
   "metadata": {},
   "outputs": [],
   "source": [
    "#remove stopword from description tken\n",
    "no_stop_desc = []\n",
    "\n",
    "for text in no_punc_desc:\n",
    "    new_vector = []\n",
    "    for word in text:\n",
    "        if not word in stopwords.words('english'):\n",
    "            new_vector.append(word)\n",
    "            \n",
    "    no_stop_desc.append(new_vector)"
   ]
  },
  {
   "cell_type": "markdown",
   "id": "c6698426",
   "metadata": {},
   "source": [
    "Stemming and lemmatization"
   ]
  },
  {
   "cell_type": "code",
   "execution_count": 54,
   "id": "20a3c3b0",
   "metadata": {},
   "outputs": [],
   "source": [
    "#nltk.download('wordnet')"
   ]
  },
  {
   "cell_type": "code",
   "execution_count": 55,
   "id": "f2596604",
   "metadata": {},
   "outputs": [],
   "source": [
    "#nltk.download('omw-1.4')"
   ]
  },
  {
   "cell_type": "code",
   "execution_count": 57,
   "id": "761d0434",
   "metadata": {},
   "outputs": [],
   "source": [
    "# body Stemming and lemmatization\n",
    "pstem = PorterStemmer()\n",
    "wlem = WordNetLemmatizer()\n",
    "preproc_text = []\n",
    "\n",
    "for text in no_stop:\n",
    "    final_text = []\n",
    "    for word in text:\n",
    "        pstem.stem(word)\n",
    "        final_text.append(wlem.lemmatize(word))\n",
    "    \n",
    "    preproc_text.append(final_text)\n"
   ]
  },
  {
   "cell_type": "code",
   "execution_count": 58,
   "id": "0558431d",
   "metadata": {},
   "outputs": [],
   "source": [
    "#description Stemming and lemmatization\n",
    "preproc_text_desc = []\n",
    "\n",
    "for text in no_stop_desc:\n",
    "    final = []\n",
    "    for word in text:\n",
    "        pstem.stem(word)\n",
    "        final.append(wlem.lemmatize(word))\n",
    "    \n",
    "    preproc_text_desc.append(final)"
   ]
  },
  {
   "cell_type": "markdown",
   "id": "d0b991b8",
   "metadata": {},
   "source": [
    "Remove web words"
   ]
  },
  {
   "cell_type": "code",
   "execution_count": 59,
   "id": "bc7da893",
   "metadata": {},
   "outputs": [],
   "source": [
    "#Remove web words from body\n",
    "reg = re.compile(r'(http)|(^www)|(html$)|(\\w*\\d{3,}\\w*)')\n",
    "\n",
    "tuned_text = []\n",
    "\n",
    "for filt in preproc_text:\n",
    "    review = []\n",
    "    for token in filt:\n",
    "        new_token = reg.sub(u'', token)\n",
    "        if not new_token == u'':\n",
    "            review.append(new_token)\n",
    "    tuned_text.append(review)"
   ]
  },
  {
   "cell_type": "code",
   "execution_count": 60,
   "id": "2c8c783e",
   "metadata": {},
   "outputs": [],
   "source": [
    "#Remove web words from description\n",
    "reg = re.compile(r'(http)|(^www)|(html$)|(\\w*\\d{3,}\\w*)')\n",
    "\n",
    "tuned_text_desc = []\n",
    "\n",
    "for filt in preproc_text_desc:\n",
    "    review = []\n",
    "    for token in filt:\n",
    "        new_token = reg.sub(u'', token)\n",
    "        if not new_token == u'':\n",
    "            review.append(new_token)\n",
    "    tuned_text_desc.append(review)"
   ]
  },
  {
   "cell_type": "code",
   "execution_count": 68,
   "id": "d51ffa96",
   "metadata": {},
   "outputs": [],
   "source": [
    "df['context'] = [\" \".join(word) for word in tuned_text]"
   ]
  },
  {
   "cell_type": "code",
   "execution_count": 69,
   "id": "44225e3f",
   "metadata": {},
   "outputs": [],
   "source": [
    "df['desc_context'] = [\" \".join(word) for word in tuned_text_desc]"
   ]
  },
  {
   "cell_type": "code",
   "execution_count": 70,
   "id": "1da04fa0",
   "metadata": {},
   "outputs": [
    {
     "data": {
      "text/plain": [
       "0    often trigger a protest vote that can upsettha...\n",
       "1    tumbled across an interesting case a woman fac...\n",
       "2     et ost ovid19  valuation des risques lis au 1...\n",
       "3    hate raiders linked to automated harassment ca...\n",
       "4    bschnitten und ndanwendungen  rganisationen ov...\n",
       "5    rime tamp ut1 and  roads appear in court   rim...\n",
       "6    in agos igeria 84 outh fricans were killed he ...\n",
       "7    additional spending on buildings repairs and s...\n",
       "8    awsuit gainst ublic articipation designed to i...\n",
       "9    key players      llied iotech  hrhistorical ma...\n",
       "Name: desc_context, dtype: object"
      ]
     },
     "execution_count": 70,
     "metadata": {},
     "output_type": "execute_result"
    }
   ],
   "source": [
    "df['desc_context']"
   ]
  },
  {
   "cell_type": "code",
   "execution_count": 73,
   "id": "f6f9c722",
   "metadata": {},
   "outputs": [],
   "source": [
    "#lengths = df['desc_context'].apply(lambda x: len(x)) \n",
    "#lengths"
   ]
  },
  {
   "cell_type": "code",
   "execution_count": 77,
   "id": "6bf70fc0",
   "metadata": {},
   "outputs": [
    {
     "data": {
      "text/html": [
       "<div>\n",
       "<style scoped>\n",
       "    .dataframe tbody tr th:only-of-type {\n",
       "        vertical-align: middle;\n",
       "    }\n",
       "\n",
       "    .dataframe tbody tr th {\n",
       "        vertical-align: top;\n",
       "    }\n",
       "\n",
       "    .dataframe thead th {\n",
       "        text-align: right;\n",
       "    }\n",
       "</style>\n",
       "<table border=\"1\" class=\"dataframe\">\n",
       "  <thead>\n",
       "    <tr style=\"text-align: right;\">\n",
       "      <th></th>\n",
       "      <th>Domain</th>\n",
       "      <th>Title</th>\n",
       "      <th>Description</th>\n",
       "      <th>Body</th>\n",
       "      <th>Link</th>\n",
       "      <th>timestamp</th>\n",
       "      <th>Analyst_Average_Score</th>\n",
       "      <th>Analyst_Rank</th>\n",
       "      <th>Reference_Final_Score</th>\n",
       "      <th>body_lower</th>\n",
       "      <th>body_df</th>\n",
       "      <th>context_txt</th>\n",
       "      <th>desc_df</th>\n",
       "      <th>desc_context_txt</th>\n",
       "      <th>context</th>\n",
       "      <th>desc_context</th>\n",
       "    </tr>\n",
       "  </thead>\n",
       "  <tbody>\n",
       "    <tr>\n",
       "      <th>0</th>\n",
       "      <td>rassegnastampa.news</td>\n",
       "      <td>Boris Johnson using a taxpayer-funded jet for ...</td>\n",
       "      <td>…often trigger a protest vote that can upset…t...</td>\n",
       "      <td>Boris Johnson using a taxpayer-funded jet for ...</td>\n",
       "      <td>https://rassegnastampa.news/boris-johnson-usin...</td>\n",
       "      <td>2021-09-09T18:17:46.258006</td>\n",
       "      <td>0.00</td>\n",
       "      <td>4</td>\n",
       "      <td>1.96</td>\n",
       "      <td>boris johnson using a taxpayer-funded jet for ...</td>\n",
       "      <td>boris johnson using a taxpayer-funded jet for ...</td>\n",
       "      <td>often trigger a protest vote that can upsettha...</td>\n",
       "      <td>…often trigger a protest vote that can upset…t...</td>\n",
       "      <td>often trigger a protest vote that can upsettha...</td>\n",
       "      <td>often trigger a protest vote that can upsettha...</td>\n",
       "      <td>often trigger a protest vote that can upsettha...</td>\n",
       "    </tr>\n",
       "    <tr>\n",
       "      <th>1</th>\n",
       "      <td>twitter.com</td>\n",
       "      <td>Stumbled across an interesting case, a woman f...</td>\n",
       "      <td>Stumbled across an interesting case, a woman f...</td>\n",
       "      <td>Stumbled across an interesting case, a woman f...</td>\n",
       "      <td>http://twitter.com/CoruscaKhaya/status/1435585...</td>\n",
       "      <td>2021-09-08T13:02:45.802298</td>\n",
       "      <td>0.00</td>\n",
       "      <td>4</td>\n",
       "      <td>12.00</td>\n",
       "      <td>stumbled across an interesting case, a woman f...</td>\n",
       "      <td>stumbled across an interesting case, a woman f...</td>\n",
       "      <td>tumbled across an interesting case a woman fac...</td>\n",
       "      <td>stumbled across an interesting case, a woman f...</td>\n",
       "      <td>tumbled across an interesting case a woman fac...</td>\n",
       "      <td>tumbled across an interesting case a woman fac...</td>\n",
       "      <td>tumbled across an interesting case a woman fac...</td>\n",
       "    </tr>\n",
       "    <tr>\n",
       "      <th>2</th>\n",
       "      <td>atpe-tchad.info</td>\n",
       "      <td>Marché Résines dans les peintures et revêtemen...</td>\n",
       "      <td>…COVID-19…COVID…COVID…COVID-19 et Post COVID…C...</td>\n",
       "      <td>Le rapport d’étude de marché Résines dans les ...</td>\n",
       "      <td>http://atpe-tchad.info/2021/09/13/marche-resin...</td>\n",
       "      <td>2021-09-13T07:32:46.244403</td>\n",
       "      <td>0.00</td>\n",
       "      <td>4</td>\n",
       "      <td>0.05</td>\n",
       "      <td>le rapport d’étude de marché résines dans les ...</td>\n",
       "      <td>le rapport d’étude de marché résines dans les ...</td>\n",
       "      <td>et ost ovid19  valuation des risques lis au 1...</td>\n",
       "      <td>…covid-19…covid…covid…covid-19 et post covid…c...</td>\n",
       "      <td>et ost ovid19  valuation des risques lis au 1...</td>\n",
       "      <td>et ost ovid19  valuation des risques lis au 1...</td>\n",
       "      <td>et ost ovid19  valuation des risques lis au 1...</td>\n",
       "    </tr>\n",
       "    <tr>\n",
       "      <th>3</th>\n",
       "      <td>badbluetech.bitnamiapp.com</td>\n",
       "      <td>AI drives data analytics surge, study finds</td>\n",
       "      <td>…hate raiders' linked to automated harassment ...</td>\n",
       "      <td>How to drive the funnel through content market...</td>\n",
       "      <td>http://badbluetech.bitnamiapp.com/p.php?sid=21...</td>\n",
       "      <td>2021-09-11T00:17:45.962605</td>\n",
       "      <td>0.00</td>\n",
       "      <td>4</td>\n",
       "      <td>6.10</td>\n",
       "      <td>how to drive the funnel through content market...</td>\n",
       "      <td>how to drive the funnel through content market...</td>\n",
       "      <td>hate raiders linked to automated harassment ca...</td>\n",
       "      <td>…hate raiders' linked to automated harassment ...</td>\n",
       "      <td>hate raiders linked to automated harassment ca...</td>\n",
       "      <td>hate raiders linked to automated harassment ca...</td>\n",
       "      <td>hate raiders linked to automated harassment ca...</td>\n",
       "    </tr>\n",
       "    <tr>\n",
       "      <th>4</th>\n",
       "      <td>kryptogazette.com</td>\n",
       "      <td>Triacetin Vertrieb Markt 2021: Globale Unterne...</td>\n",
       "      <td>…Abschnitten und Endanwendungen / Organisation...</td>\n",
       "      <td>Global Triacetin Vertrieb-Markt 2021 von Herst...</td>\n",
       "      <td>https://kryptogazette.com/2021/09/08/triacetin...</td>\n",
       "      <td>2021-09-08T12:47:46.078369</td>\n",
       "      <td>0.00</td>\n",
       "      <td>4</td>\n",
       "      <td>0.13</td>\n",
       "      <td>global triacetin vertrieb-markt 2021 von herst...</td>\n",
       "      <td>global triacetin vertrieb-markt 2021 von herst...</td>\n",
       "      <td>bschnitten und ndanwendungen  rganisationen ov...</td>\n",
       "      <td>…abschnitten und endanwendungen / organisation...</td>\n",
       "      <td>bschnitten und ndanwendungen  rganisationen ov...</td>\n",
       "      <td>bschnitten und ndanwendungen  rganisationen ov...</td>\n",
       "      <td>bschnitten und ndanwendungen  rganisationen ov...</td>\n",
       "    </tr>\n",
       "    <tr>\n",
       "      <th>5</th>\n",
       "      <td>mype.co.za</td>\n",
       "      <td>Male arrested for the murder of an elderly fem...</td>\n",
       "      <td>…Crime Stamp Out…N1 and R101 roads appear in c...</td>\n",
       "      <td>South African Police Service Office of the Pro...</td>\n",
       "      <td>https://mype.co.za/new/male-arrested-for-the-m...</td>\n",
       "      <td>2021-09-10T00:17:46.055622</td>\n",
       "      <td>1.33</td>\n",
       "      <td>2</td>\n",
       "      <td>11.00</td>\n",
       "      <td>south african police service office of the pro...</td>\n",
       "      <td>south african police service office of the pro...</td>\n",
       "      <td>rime tamp ut1 and  roads appear in court   rim...</td>\n",
       "      <td>…crime stamp out…n1 and r101 roads appear in c...</td>\n",
       "      <td>rime tamp ut1 and  roads appear in court   rim...</td>\n",
       "      <td>rime tamp ut1 and  roads appear in court   rim...</td>\n",
       "      <td>rime tamp ut1 and  roads appear in court   rim...</td>\n",
       "    </tr>\n",
       "    <tr>\n",
       "      <th>6</th>\n",
       "      <td>eminetra.co.za</td>\n",
       "      <td>7th Anniversary of SCOAN Collapse in Nigeria-S...</td>\n",
       "      <td>…in Lagos, Nigeria, 84 South Africans were kil...</td>\n",
       "      <td>Today is the 7th anniversary [Tragic collapse ...</td>\n",
       "      <td>https://eminetra.co.za/7th-anniversary-of-scoa...</td>\n",
       "      <td>2021-09-12T05:17:50.279081</td>\n",
       "      <td>0.00</td>\n",
       "      <td>4</td>\n",
       "      <td>10.10</td>\n",
       "      <td>today is the 7th anniversary [tragic collapse ...</td>\n",
       "      <td>today is the 7th anniversary [tragic collapse ...</td>\n",
       "      <td>in agos igeria 84 outh fricans were killed he ...</td>\n",
       "      <td>…in lagos, nigeria, 84 south africans were kil...</td>\n",
       "      <td>in agos igeria 84 outh fricans were killed he ...</td>\n",
       "      <td>in agos igeria 84 outh fricans were killed he ...</td>\n",
       "      <td>in agos igeria 84 outh fricans were killed he ...</td>\n",
       "    </tr>\n",
       "    <tr>\n",
       "      <th>7</th>\n",
       "      <td>eminetra.co.za</td>\n",
       "      <td>The construction sector is expected to be boos...</td>\n",
       "      <td>…additional spending on buildings, repairs and...</td>\n",
       "      <td>Construction activity grew steadily by 4% in t...</td>\n",
       "      <td>https://eminetra.co.za/the-construction-sector...</td>\n",
       "      <td>2021-09-09T09:02:46.320793</td>\n",
       "      <td>1.66</td>\n",
       "      <td>1</td>\n",
       "      <td>1.36</td>\n",
       "      <td>construction activity grew steadily by 4% in t...</td>\n",
       "      <td>construction activity grew steadily by 4% in t...</td>\n",
       "      <td>additional spending on buildings repairs and s...</td>\n",
       "      <td>…additional spending on buildings, repairs and...</td>\n",
       "      <td>additional spending on buildings repairs and s...</td>\n",
       "      <td>additional spending on buildings repairs and s...</td>\n",
       "      <td>additional spending on buildings repairs and s...</td>\n",
       "    </tr>\n",
       "    <tr>\n",
       "      <th>8</th>\n",
       "      <td>news24.com</td>\n",
       "      <td>News24.com | Court dismisses attempt by former...</td>\n",
       "      <td>…Lawsuit Against Public Participation) designe...</td>\n",
       "      <td>- Former Eskom CEO Matshela Moses Koko sought ...</td>\n",
       "      <td>https://www.news24.com/news24/southafrica/news...</td>\n",
       "      <td>2021-09-09T19:32:46.239682</td>\n",
       "      <td>0.33</td>\n",
       "      <td>3</td>\n",
       "      <td>2.40</td>\n",
       "      <td>- former eskom ceo matshela moses koko sought ...</td>\n",
       "      <td>- former eskom ceo matshela moses koko sought ...</td>\n",
       "      <td>awsuit gainst ublic articipation designed to i...</td>\n",
       "      <td>…lawsuit against public participation) designe...</td>\n",
       "      <td>awsuit gainst ublic articipation designed to i...</td>\n",
       "      <td>awsuit gainst ublic articipation designed to i...</td>\n",
       "      <td>awsuit gainst ublic articipation designed to i...</td>\n",
       "    </tr>\n",
       "    <tr>\n",
       "      <th>9</th>\n",
       "      <td>manometcurrent.com</td>\n",
       "      <td>Global and Regional Beta-Carotene Market Resea...</td>\n",
       "      <td>…key players! – DSM – BASF – Allied Biotech – ...</td>\n",
       "      <td>Global and Regional Beta-Carotene Market Resea...</td>\n",
       "      <td>https://manometcurrent.com/global-and-regional...</td>\n",
       "      <td>2021-09-13T03:02:45.609228</td>\n",
       "      <td>0.00</td>\n",
       "      <td>4</td>\n",
       "      <td>0.22</td>\n",
       "      <td>global and regional beta-carotene market resea...</td>\n",
       "      <td>global and regional beta-carotene market resea...</td>\n",
       "      <td>key players      llied iotech  hrhistorical ma...</td>\n",
       "      <td>…key players! – dsm – basf – allied biotech – ...</td>\n",
       "      <td>key players      llied iotech  hrhistorical ma...</td>\n",
       "      <td>key players      llied iotech  hrhistorical ma...</td>\n",
       "      <td>key players      llied iotech  hrhistorical ma...</td>\n",
       "    </tr>\n",
       "  </tbody>\n",
       "</table>\n",
       "</div>"
      ],
      "text/plain": [
       "                       Domain  \\\n",
       "0         rassegnastampa.news   \n",
       "1                 twitter.com   \n",
       "2             atpe-tchad.info   \n",
       "3  badbluetech.bitnamiapp.com   \n",
       "4           kryptogazette.com   \n",
       "5                  mype.co.za   \n",
       "6              eminetra.co.za   \n",
       "7              eminetra.co.za   \n",
       "8                  news24.com   \n",
       "9          manometcurrent.com   \n",
       "\n",
       "                                               Title  \\\n",
       "0  Boris Johnson using a taxpayer-funded jet for ...   \n",
       "1  Stumbled across an interesting case, a woman f...   \n",
       "2  Marché Résines dans les peintures et revêtemen...   \n",
       "3        AI drives data analytics surge, study finds   \n",
       "4  Triacetin Vertrieb Markt 2021: Globale Unterne...   \n",
       "5  Male arrested for the murder of an elderly fem...   \n",
       "6  7th Anniversary of SCOAN Collapse in Nigeria-S...   \n",
       "7  The construction sector is expected to be boos...   \n",
       "8  News24.com | Court dismisses attempt by former...   \n",
       "9  Global and Regional Beta-Carotene Market Resea...   \n",
       "\n",
       "                                         Description  \\\n",
       "0  …often trigger a protest vote that can upset…t...   \n",
       "1  Stumbled across an interesting case, a woman f...   \n",
       "2  …COVID-19…COVID…COVID…COVID-19 et Post COVID…C...   \n",
       "3  …hate raiders' linked to automated harassment ...   \n",
       "4  …Abschnitten und Endanwendungen / Organisation...   \n",
       "5  …Crime Stamp Out…N1 and R101 roads appear in c...   \n",
       "6  …in Lagos, Nigeria, 84 South Africans were kil...   \n",
       "7  …additional spending on buildings, repairs and...   \n",
       "8  …Lawsuit Against Public Participation) designe...   \n",
       "9  …key players! – DSM – BASF – Allied Biotech – ...   \n",
       "\n",
       "                                                Body  \\\n",
       "0  Boris Johnson using a taxpayer-funded jet for ...   \n",
       "1  Stumbled across an interesting case, a woman f...   \n",
       "2  Le rapport d’étude de marché Résines dans les ...   \n",
       "3  How to drive the funnel through content market...   \n",
       "4  Global Triacetin Vertrieb-Markt 2021 von Herst...   \n",
       "5  South African Police Service Office of the Pro...   \n",
       "6  Today is the 7th anniversary [Tragic collapse ...   \n",
       "7  Construction activity grew steadily by 4% in t...   \n",
       "8  - Former Eskom CEO Matshela Moses Koko sought ...   \n",
       "9  Global and Regional Beta-Carotene Market Resea...   \n",
       "\n",
       "                                                Link  \\\n",
       "0  https://rassegnastampa.news/boris-johnson-usin...   \n",
       "1  http://twitter.com/CoruscaKhaya/status/1435585...   \n",
       "2  http://atpe-tchad.info/2021/09/13/marche-resin...   \n",
       "3  http://badbluetech.bitnamiapp.com/p.php?sid=21...   \n",
       "4  https://kryptogazette.com/2021/09/08/triacetin...   \n",
       "5  https://mype.co.za/new/male-arrested-for-the-m...   \n",
       "6  https://eminetra.co.za/7th-anniversary-of-scoa...   \n",
       "7  https://eminetra.co.za/the-construction-sector...   \n",
       "8  https://www.news24.com/news24/southafrica/news...   \n",
       "9  https://manometcurrent.com/global-and-regional...   \n",
       "\n",
       "                    timestamp  Analyst_Average_Score  Analyst_Rank  \\\n",
       "0  2021-09-09T18:17:46.258006                   0.00             4   \n",
       "1  2021-09-08T13:02:45.802298                   0.00             4   \n",
       "2  2021-09-13T07:32:46.244403                   0.00             4   \n",
       "3  2021-09-11T00:17:45.962605                   0.00             4   \n",
       "4  2021-09-08T12:47:46.078369                   0.00             4   \n",
       "5  2021-09-10T00:17:46.055622                   1.33             2   \n",
       "6  2021-09-12T05:17:50.279081                   0.00             4   \n",
       "7  2021-09-09T09:02:46.320793                   1.66             1   \n",
       "8  2021-09-09T19:32:46.239682                   0.33             3   \n",
       "9  2021-09-13T03:02:45.609228                   0.00             4   \n",
       "\n",
       "   Reference_Final_Score                                         body_lower  \\\n",
       "0                   1.96  boris johnson using a taxpayer-funded jet for ...   \n",
       "1                  12.00  stumbled across an interesting case, a woman f...   \n",
       "2                   0.05  le rapport d’étude de marché résines dans les ...   \n",
       "3                   6.10  how to drive the funnel through content market...   \n",
       "4                   0.13  global triacetin vertrieb-markt 2021 von herst...   \n",
       "5                  11.00  south african police service office of the pro...   \n",
       "6                  10.10  today is the 7th anniversary [tragic collapse ...   \n",
       "7                   1.36  construction activity grew steadily by 4% in t...   \n",
       "8                   2.40  - former eskom ceo matshela moses koko sought ...   \n",
       "9                   0.22  global and regional beta-carotene market resea...   \n",
       "\n",
       "                                             body_df  \\\n",
       "0  boris johnson using a taxpayer-funded jet for ...   \n",
       "1  stumbled across an interesting case, a woman f...   \n",
       "2  le rapport d’étude de marché résines dans les ...   \n",
       "3  how to drive the funnel through content market...   \n",
       "4  global triacetin vertrieb-markt 2021 von herst...   \n",
       "5  south african police service office of the pro...   \n",
       "6  today is the 7th anniversary [tragic collapse ...   \n",
       "7  construction activity grew steadily by 4% in t...   \n",
       "8  - former eskom ceo matshela moses koko sought ...   \n",
       "9  global and regional beta-carotene market resea...   \n",
       "\n",
       "                                         context_txt  \\\n",
       "0  often trigger a protest vote that can upsettha...   \n",
       "1  tumbled across an interesting case a woman fac...   \n",
       "2   et ost ovid19  valuation des risques lis au 1...   \n",
       "3  hate raiders linked to automated harassment ca...   \n",
       "4  bschnitten und ndanwendungen  rganisationen ov...   \n",
       "5  rime tamp ut1 and  roads appear in court   rim...   \n",
       "6  in agos igeria 84 outh fricans were killed he ...   \n",
       "7  additional spending on buildings repairs and s...   \n",
       "8  awsuit gainst ublic articipation designed to i...   \n",
       "9  key players      llied iotech  hrhistorical ma...   \n",
       "\n",
       "                                             desc_df  \\\n",
       "0  …often trigger a protest vote that can upset…t...   \n",
       "1  stumbled across an interesting case, a woman f...   \n",
       "2  …covid-19…covid…covid…covid-19 et post covid…c...   \n",
       "3  …hate raiders' linked to automated harassment ...   \n",
       "4  …abschnitten und endanwendungen / organisation...   \n",
       "5  …crime stamp out…n1 and r101 roads appear in c...   \n",
       "6  …in lagos, nigeria, 84 south africans were kil...   \n",
       "7  …additional spending on buildings, repairs and...   \n",
       "8  …lawsuit against public participation) designe...   \n",
       "9  …key players! – dsm – basf – allied biotech – ...   \n",
       "\n",
       "                                    desc_context_txt  \\\n",
       "0  often trigger a protest vote that can upsettha...   \n",
       "1  tumbled across an interesting case a woman fac...   \n",
       "2   et ost ovid19  valuation des risques lis au 1...   \n",
       "3  hate raiders linked to automated harassment ca...   \n",
       "4  bschnitten und ndanwendungen  rganisationen ov...   \n",
       "5  rime tamp ut1 and  roads appear in court   rim...   \n",
       "6  in agos igeria 84 outh fricans were killed he ...   \n",
       "7  additional spending on buildings repairs and s...   \n",
       "8  awsuit gainst ublic articipation designed to i...   \n",
       "9  key players      llied iotech  hrhistorical ma...   \n",
       "\n",
       "                                             context  \\\n",
       "0  often trigger a protest vote that can upsettha...   \n",
       "1  tumbled across an interesting case a woman fac...   \n",
       "2   et ost ovid19  valuation des risques lis au 1...   \n",
       "3  hate raiders linked to automated harassment ca...   \n",
       "4  bschnitten und ndanwendungen  rganisationen ov...   \n",
       "5  rime tamp ut1 and  roads appear in court   rim...   \n",
       "6  in agos igeria 84 outh fricans were killed he ...   \n",
       "7  additional spending on buildings repairs and s...   \n",
       "8  awsuit gainst ublic articipation designed to i...   \n",
       "9  key players      llied iotech  hrhistorical ma...   \n",
       "\n",
       "                                        desc_context  \n",
       "0  often trigger a protest vote that can upsettha...  \n",
       "1  tumbled across an interesting case a woman fac...  \n",
       "2   et ost ovid19  valuation des risques lis au 1...  \n",
       "3  hate raiders linked to automated harassment ca...  \n",
       "4  bschnitten und ndanwendungen  rganisationen ov...  \n",
       "5  rime tamp ut1 and  roads appear in court   rim...  \n",
       "6  in agos igeria 84 outh fricans were killed he ...  \n",
       "7  additional spending on buildings repairs and s...  \n",
       "8  awsuit gainst ublic articipation designed to i...  \n",
       "9  key players      llied iotech  hrhistorical ma...  "
      ]
     },
     "execution_count": 77,
     "metadata": {},
     "output_type": "execute_result"
    }
   ],
   "source": [
    "df"
   ]
  },
  {
   "cell_type": "markdown",
   "id": "a9a23b08",
   "metadata": {},
   "source": [
    "####  Average_Score"
   ]
  },
  {
   "cell_type": "code",
   "execution_count": 130,
   "id": "7c1dac75",
   "metadata": {},
   "outputs": [
    {
     "data": {
      "text/plain": [
       "0    low\n",
       "1    low\n",
       "2    low\n",
       "3    low\n",
       "4    low\n",
       "5    low\n",
       "6    low\n",
       "7    low\n",
       "8    low\n",
       "9    low\n",
       "Name: Analyst_Average_Score, dtype: object"
      ]
     },
     "execution_count": 130,
     "metadata": {},
     "output_type": "execute_result"
    }
   ],
   "source": [
    "# analysis the average score of the first 10 \n",
    "rank_ten = df['Analyst_Average_Score'].apply(lambda x: 'low' if x < 5 else 'high')\n",
    "rank_ten\n",
    "#We will "
   ]
  },
  {
   "cell_type": "code",
   "execution_count": 131,
   "id": "089ae126",
   "metadata": {
    "scrolled": true
   },
   "outputs": [
    {
     "data": {
      "text/plain": [
       "0    low\n",
       "1    low\n",
       "2    low\n",
       "3    low\n",
       "4    low\n",
       "5    low\n",
       "6    low\n",
       "7    low\n",
       "8    low\n",
       "9    low\n",
       "Name: rank_one, dtype: object"
      ]
     },
     "execution_count": 131,
     "metadata": {},
     "output_type": "execute_result"
    }
   ],
   "source": [
    "df['rank_one'] = rank_ten\n",
    "df['rank_one']"
   ]
  },
  {
   "cell_type": "code",
   "execution_count": 132,
   "id": "4e0d955e",
   "metadata": {},
   "outputs": [],
   "source": [
    "def sub_class(value):\n",
    "    if value >= 0 and value < 1:\n",
    "        return \"low_1\"\n",
    "    elif value >= 1 and value < 2:\n",
    "        return \"low_2\"\n",
    "    elif value >= 2 and value < 3:\n",
    "        return \"low_3\"\n",
    "    elif value >= 3 and value < 4:\n",
    "        return \"low_4\"\n",
    "    elif value >= 4 and value < 5:\n",
    "        return \"low_5\"\n",
    "    elif value >= 5 and value < 6:\n",
    "        return \"high_1\"\n",
    "    elif value >= 6 and value < 7:\n",
    "        return \"high_2\"\n",
    "    elif value >= 7 and value < 8:\n",
    "        return \"high_3\"\n",
    "    elif value >= 8 and value < 9:\n",
    "        return \"high_4\"\n",
    "    else:\n",
    "        return \"high_5\""
   ]
  },
  {
   "cell_type": "code",
   "execution_count": 133,
   "id": "e396fcc5",
   "metadata": {},
   "outputs": [
    {
     "data": {
      "text/plain": [
       "0    low_1\n",
       "1    low_1\n",
       "2    low_1\n",
       "3    low_1\n",
       "4    low_1\n",
       "5    low_2\n",
       "6    low_1\n",
       "7    low_2\n",
       "8    low_1\n",
       "9    low_1\n",
       "Name: rank_two, dtype: object"
      ]
     },
     "execution_count": 133,
     "metadata": {},
     "output_type": "execute_result"
    }
   ],
   "source": [
    "# add the new score to new created column\n",
    "df['rank_two'] = df['Analyst_Average_Score'].apply(lambda x: sub_class(x))\n",
    "df['rank_two']"
   ]
  },
  {
   "cell_type": "code",
   "execution_count": 134,
   "id": "996ad56a",
   "metadata": {},
   "outputs": [
    {
     "data": {
      "text/plain": [
       "0     low_1\n",
       "1     low_1\n",
       "2     low_1\n",
       "3     low_1\n",
       "4     low_1\n",
       "5     low_4\n",
       "6     low_1\n",
       "7    high_2\n",
       "8     low_4\n",
       "9     low_1\n",
       "Name: rank_three, dtype: object"
      ]
     },
     "execution_count": 134,
     "metadata": {},
     "output_type": "execute_result"
    }
   ],
   "source": [
    "df['rank_three'] = df['Analyst_Average_Score'].apply(lambda x: sub_class(int(\"{:.2f}\".format(x)[2])))\n",
    "df['rank_three']"
   ]
  },
  {
   "cell_type": "code",
   "execution_count": 135,
   "id": "2a9183af",
   "metadata": {},
   "outputs": [
    {
     "data": {
      "text/plain": [
       "0     low_1\n",
       "1     low_1\n",
       "2     low_1\n",
       "3     low_1\n",
       "4     low_1\n",
       "5     low_4\n",
       "6     low_1\n",
       "7    high_2\n",
       "8     low_4\n",
       "9     low_1\n",
       "Name: rank_four, dtype: object"
      ]
     },
     "execution_count": 135,
     "metadata": {},
     "output_type": "execute_result"
    }
   ],
   "source": [
    "df['rank_four'] = df['Analyst_Average_Score'].apply(lambda x: sub_class(int(\"{:.2f}\".format(x)[3])))\n",
    "df['rank_four']"
   ]
  },
  {
   "cell_type": "code",
   "execution_count": 136,
   "id": "626aa019",
   "metadata": {},
   "outputs": [
    {
     "data": {
      "text/plain": [
       "0      low__low_1__low_1__low_1\n",
       "1      low__low_1__low_1__low_1\n",
       "2      low__low_1__low_1__low_1\n",
       "3      low__low_1__low_1__low_1\n",
       "4      low__low_1__low_1__low_1\n",
       "5      low__low_2__low_4__low_4\n",
       "6      low__low_1__low_1__low_1\n",
       "7    low__low_2__high_2__high_2\n",
       "8      low__low_1__low_4__low_4\n",
       "9      low__low_1__low_1__low_1\n",
       "Name: final_rank, dtype: object"
      ]
     },
     "execution_count": 136,
     "metadata": {},
     "output_type": "execute_result"
    }
   ],
   "source": [
    "df['final_rank'] = df['rank_one'].map(str)+'__'+df['rank_two'].map(str)+'__'+df['rank_three'].map(str)+'__'+df['rank_four'].map(str)\n",
    "df['final_rank']"
   ]
  },
  {
   "cell_type": "code",
   "execution_count": 137,
   "id": "ef7f0142",
   "metadata": {},
   "outputs": [],
   "source": [
    "#save cleaned data\n",
    "df.to_csv('../data/processed_example_data.csv')"
   ]
  },
  {
   "cell_type": "markdown",
   "id": "5cf9aca8",
   "metadata": {},
   "source": [
    "##### Using Embedding"
   ]
  },
  {
   "cell_type": "code",
   "execution_count": 93,
   "id": "02c031eb",
   "metadata": {},
   "outputs": [
    {
     "data": {
      "text/plain": [
       "1    low__low_1__low_1__low_1\n",
       "2    low__low_1__low_1__low_1\n",
       "Name: final_rank, dtype: object"
      ]
     },
     "execution_count": 93,
     "metadata": {},
     "output_type": "execute_result"
    }
   ],
   "source": [
    "X,y = df['desc_context'], df['final_rank']\n",
    "X_train, X_test, y_train, y_test = train_test_split(X, y, test_size=2, random_state=21)\n",
    "y_test"
   ]
  },
  {
   "cell_type": "code",
   "execution_count": 100,
   "id": "a79f12e8",
   "metadata": {},
   "outputs": [],
   "source": [
    "def embed_text(text):\n",
    "  output = co.embed(\n",
    "                model='medium',\n",
    "                texts=text)\n",
    "  return output.embeddings\n",
    "\n",
    "\n",
    "X_train_emb = np.array(embed_text(X_train.tolist()))\n",
    "X_test_emb = np.array(embed_text(X_test.tolist()))"
   ]
  },
  {
   "cell_type": "code",
   "execution_count": 103,
   "id": "81286d07",
   "metadata": {},
   "outputs": [
    {
     "data": {
      "text/plain": [
       "SVC(class_weight='balanced')"
      ]
     },
     "execution_count": 103,
     "metadata": {},
     "output_type": "execute_result"
    }
   ],
   "source": [
    "# Prepare the labels\n",
    "le = preprocessing.LabelEncoder()\n",
    "le.fit(y_train)\n",
    "y_train_x = le.transform(y_train)\n",
    "y_test_x = le.transform(y_test)\n",
    "\n",
    "# Initialize the model\n",
    "svm_classifier = SVC(class_weight='balanced')\n",
    "\n",
    "# Fit the training dataset to the model\n",
    "svm_classifier.fit(X_train_emb, y_train_x)"
   ]
  },
  {
   "cell_type": "code",
   "execution_count": 104,
   "id": "35acb1ef",
   "metadata": {},
   "outputs": [
    {
     "data": {
      "text/plain": [
       "array([0, 0])"
      ]
     },
     "execution_count": 104,
     "metadata": {},
     "output_type": "execute_result"
    }
   ],
   "source": [
    "y_pred_x = svm_classifier.predict(X_test_emb)\n",
    "y_pred_x"
   ]
  },
  {
   "cell_type": "code",
   "execution_count": 105,
   "id": "73f9b058",
   "metadata": {},
   "outputs": [
    {
     "name": "stdout",
     "output_type": "stream",
     "text": [
      "Embeded F1-score: 100.00\n",
      "Embeded Accuracy: 100.00\n"
     ]
    }
   ],
   "source": [
    "# calculate the performance\n",
    "accuracy = accuracy_score(y_test_x, y_pred_x)\n",
    "f1 = f1_score(y_test_x, y_pred_x, average='weighted')\n",
    "\n",
    "print(f'Embeded F1-score: {100*f1:.2f}')\n",
    "print(f'Embeded Accuracy: {100*accuracy:.2f}')"
   ]
  },
  {
   "cell_type": "markdown",
   "id": "85a2be84",
   "metadata": {},
   "source": [
    "##### Using few-shot classifications"
   ]
  },
  {
   "cell_type": "code",
   "execution_count": 145,
   "id": "ca9d78fd",
   "metadata": {},
   "outputs": [],
   "source": [
    "X,y = df['Domain'], df['final_rank']\n",
    "X_train, X_test, y_train, y_test = train_test_split(X, y, test_size=2, random_state=21)"
   ]
  },
  {
   "cell_type": "code",
   "execution_count": 146,
   "id": "bd04762d",
   "metadata": {},
   "outputs": [
    {
     "name": "stdout",
     "output_type": "stream",
     "text": [
      "['low__low_2__high_2__high_2', 'low__low_1__low_1__low_1', 'low__low_2__low_4__low_4', 'low__low_1__low_4__low_4']\n"
     ]
    }
   ],
   "source": [
    "# View the list of all available final_rank class\n",
    "score = y_train.unique().tolist()\n",
    "print(score)\n"
   ]
  },
  {
   "cell_type": "code",
   "execution_count": 147,
   "id": "498f8747",
   "metadata": {},
   "outputs": [],
   "source": [
    "ex_texts, ex_labels = [], []\n",
    "for score in score:\n",
    "  ex_texts += X_train.tolist()\n",
    "  ex_labels += y_train.tolist()"
   ]
  },
  {
   "cell_type": "code",
   "execution_count": 148,
   "id": "48e7743a",
   "metadata": {},
   "outputs": [],
   "source": [
    "#print(f'Total Number of classes: {len(score)}')\n",
    "#print(f'Total number of examples: {len(ex_texts)}')"
   ]
  },
  {
   "cell_type": "code",
   "execution_count": 149,
   "id": "44389bbd",
   "metadata": {},
   "outputs": [],
   "source": [
    "#co = cohere.Client(API_KEY)"
   ]
  },
  {
   "cell_type": "code",
   "execution_count": 150,
   "id": "894f53b3",
   "metadata": {},
   "outputs": [],
   "source": [
    "examples = list()\n",
    "for txt, lbl in zip(ex_texts,ex_labels):\n",
    "  examples.append(Example(txt,lbl))"
   ]
  },
  {
   "cell_type": "code",
   "execution_count": 151,
   "id": "a4a94acb",
   "metadata": {},
   "outputs": [],
   "source": [
    "def classifyt(text,examples):\n",
    "  classifications = co.classify(\n",
    "    model='xlarge',\n",
    "    inputs=[text],\n",
    "    examples=examples\n",
    "    )\n",
    "  return classifications.classifications[0].prediction"
   ]
  },
  {
   "cell_type": "code",
   "execution_count": 153,
   "id": "ba14518e",
   "metadata": {},
   "outputs": [],
   "source": [
    "y_pred = X_test.apply(classifyt, args=(examples,)).tolist()\n",
    "y_pred"
   ]
  },
  {
   "cell_type": "code",
   "execution_count": 154,
   "id": "5db76437",
   "metadata": {},
   "outputs": [],
   "source": [
    "accuracy = accuracy_score(y_test, y_pred)\n",
    "f1 = f1_score(y_test, y_pred, average='weighted')\n",
    "\n",
    "print(f'Few shot F1-score: {100*f1:.2f}')\n",
    "print(f'Few shot Accuracy: {100*accuracy:.2f}')"
   ]
  },
  {
   "cell_type": "code",
   "execution_count": null,
   "id": "ac37f2bb",
   "metadata": {},
   "outputs": [],
   "source": []
  }
 ],
 "metadata": {
  "kernelspec": {
   "display_name": "Python 3 (ipykernel)",
   "language": "python",
   "name": "python3"
  },
  "language_info": {
   "codemirror_mode": {
    "name": "ipython",
    "version": 3
   },
   "file_extension": ".py",
   "mimetype": "text/x-python",
   "name": "python",
   "nbconvert_exporter": "python",
   "pygments_lexer": "ipython3",
   "version": "3.9.12"
  }
 },
 "nbformat": 4,
 "nbformat_minor": 5
}
